{
 "cells": [
  {
   "cell_type": "code",
   "execution_count": null,
   "id": "dd45bd49-cf10-43c7-9d8b-5084f44f8b2c",
   "metadata": {},
   "outputs": [],
   "source": [
    "#Q1. What are the key steps involved in building an end-to-end web application, from development to\n",
    "deployment on the cloud?"
   ]
  },
  {
   "cell_type": "code",
   "execution_count": null,
   "id": "873449f3-92e0-413b-8fad-1766573414c5",
   "metadata": {},
   "outputs": [],
   "source": [
    "# DATA COLECTION\n",
    "# EDA\n",
    "#FE\n",
    "#MODEL TRAINING\n",
    "#WEB APP\n",
    "#DEPLOYMNET"
   ]
  },
  {
   "cell_type": "code",
   "execution_count": null,
   "id": "82c5e1c2-89fa-4184-ad11-d2414edf5030",
   "metadata": {},
   "outputs": [],
   "source": [
    "#Q2. Explain the difference between traditional web hosting and cloud hosting."
   ]
  },
  {
   "cell_type": "code",
   "execution_count": null,
   "id": "753d835a-4af8-49b4-b5e3-3cd2ad6770a3",
   "metadata": {},
   "outputs": [],
   "source": [
    "#Traditional hosting uses physical servers, while cloud hosting utilizes virtual servers and resources from a network of servers.\n",
    "#Cloud hosting offers scalability, flexibility, and cost-efficiency compared to the fixed infrastructure of traditional hosting."
   ]
  },
  {
   "cell_type": "code",
   "execution_count": null,
   "id": "e2d1d3f5-662f-4a4d-a935-5da986a124d4",
   "metadata": {},
   "outputs": [],
   "source": [
    "#Q3. How do you choose the right cloud provider for your application deployment, and what factors\n",
    "should you consider?"
   ]
  },
  {
   "cell_type": "code",
   "execution_count": null,
   "id": "a3fd9203-12e8-460b-992b-7d1af84310d6",
   "metadata": {},
   "outputs": [],
   "source": [
    "#We will Choose the right cloud provider based on factors like:\n",
    "\n",
    "#Service offerings (e.g., AWS, Azure, GCP)\n",
    "#Geographic presence\n",
    "#Pricing structure\n",
    "#Compliance requirements\n",
    "#Scalability needs\n",
    "#Support and ecosystem."
   ]
  },
  {
   "cell_type": "code",
   "execution_count": null,
   "id": "dd6ce196-2e0c-4c1b-b6fa-700ecc305ce9",
   "metadata": {},
   "outputs": [],
   "source": [
    "#Q4. How do you design and build a responsive user interface for your web application, and what are some best practices to follow?"
   ]
  },
  {
   "cell_type": "code",
   "execution_count": null,
   "id": "8cadf139-434a-4b2e-886f-223c273ed738",
   "metadata": {},
   "outputs": [],
   "source": [
    "#We will keep the consider follwoing  point to build a responsive user\n",
    "\n",
    "#Use a mobile-first approach\n",
    "#Implement responsive frameworks (e.g., Bootstrap)\n",
    "#Optimize images and media\n",
    "#Test on various devices\n",
    "#Prioritize content for mobile\n",
    "#Use flexible layouts."
   ]
  },
  {
   "cell_type": "code",
   "execution_count": null,
   "id": "d4ba016d-3654-496f-b480-34adf09ad86c",
   "metadata": {},
   "outputs": [],
   "source": [
    "#How do you integrate the machine learning model with the user interface for the Algerian Forest Fires\n",
    "#project(which we discussed in class), and what APIs or libraries can you use for this purpose?"
   ]
  },
  {
   "cell_type": "code",
   "execution_count": null,
   "id": "e346d5c0-8a9a-4684-b49f-dac27f01686a",
   "metadata": {},
   "outputs": [],
   "source": [
    "#We have to use flask for API deployment we need to uplaod files algeraian forest fire clean data set,3.0 model 2.0 EDA scaler pkl and  ridge pickle\n",
    "#the libraries we install were \n",
    "#Flask\n",
    "#numpy \n",
    "#pandas\n",
    "#scikit-learn\n",
    "#We need to create folder home and index in teh template and write the code for get and post function.\n",
    "#Connect the UI to the API using HTTP requests (e.g., AJAX)\n",
    "#Send input data to the API, receive predictions, and display them in the UI.\n"
   ]
  }
 ],
 "metadata": {
  "kernelspec": {
   "display_name": "Python 3 (ipykernel)",
   "language": "python",
   "name": "python3"
  },
  "language_info": {
   "codemirror_mode": {
    "name": "ipython",
    "version": 3
   },
   "file_extension": ".py",
   "mimetype": "text/x-python",
   "name": "python",
   "nbconvert_exporter": "python",
   "pygments_lexer": "ipython3",
   "version": "3.10.8"
  }
 },
 "nbformat": 4,
 "nbformat_minor": 5
}
